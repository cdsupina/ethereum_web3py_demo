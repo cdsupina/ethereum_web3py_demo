{
 "cells": [
  {
   "cell_type": "markdown",
   "metadata": {},
   "source": [
    "# **Getting Started with Ethereum**\n",
    "\n",
    "## Requirements\n",
    "\n",
    "Before you start developing a dapp make sure to run ganache-cli (formerly testrpc) in a seperate terminal.\n",
    "\n",
    "Install:\n",
    "```\n",
    "npm install -g ganache-cli\n",
    "```\n",
    "\n",
    "Run:\n",
    "```\n",
    "ganache-cli\n",
    "```"
   ]
  },
  {
   "cell_type": "markdown",
   "metadata": {},
   "source": [
    "## Imports\n",
    "- web3 : module for interacting with the ethereum blockchain\n",
    "\n",
    "    ```bash\n",
    "    pip install web3\n",
    "    ```\n",
    "    \n",
    "    \n",
    "- solc : provides functions for compiling solidity\n",
    "\n",
    "    ```bash\n",
    "    pip install py-solc\n",
    "    ```"
   ]
  },
  {
   "cell_type": "code",
   "execution_count": 1,
   "metadata": {},
   "outputs": [],
   "source": [
    "from web3 import Web3, HTTPProvider\n",
    "from solc import compile_source"
   ]
  },
  {
   "cell_type": "markdown",
   "metadata": {},
   "source": [
    "## **Connect to the Blockchain**"
   ]
  },
  {
   "cell_type": "code",
   "execution_count": 2,
   "metadata": {},
   "outputs": [
    {
     "name": "stdout",
     "output_type": "stream",
     "text": [
      "Connecting to RPC at: http://13.59.43.120:8545\n"
     ]
    }
   ],
   "source": [
    "provider = 'http://' + input('Enter the ip of your provider: ')\n",
    "provider = provider + ':' + input('Enter the port of your provider: ')\n",
    "print('Connecting to RPC at: ' + provider)\n",
    "WEB3 = Web3(HTTPProvider(provider))"
   ]
  },
  {
   "cell_type": "markdown",
   "metadata": {},
   "source": [
    "## **Compile a Contract**"
   ]
  },
  {
   "cell_type": "code",
   "execution_count": 3,
   "metadata": {},
   "outputs": [],
   "source": [
    "def get_contract_source(contract_path): #opens file and returns a string of the files contents, used here for getting contract source code\n",
    "    contract = open(contract_path, 'r')\n",
    "    contract_str = contract.read()\n",
    "    contract.close()\n",
    "    return contract_str"
   ]
  },
  {
   "cell_type": "code",
   "execution_count": 4,
   "metadata": {},
   "outputs": [],
   "source": [
    "CONTRACT_SOURCE = get_contract_source('greeter.sol') #multiline string containing the solidity source code\n",
    "CONTRACT_COMPILED = compile_source(CONTRACT_SOURCE) #raw output of compiled contract code\n",
    "CONTRACT_INTERFACE = CONTRACT_COMPILED['<stdin>:Greeter'] #interface for the contract\n",
    "\n",
    "CONTRACT_ABI = CONTRACT_INTERFACE['abi'] #abi of the contract (required for calling and compiling deploying the contract)\n",
    "CONTRACT_BIN = CONTRACT_INTERFACE['bin'] #bytecode of the contract (required for deploying the contract)\n",
    "CONTRACT_BIN_RUNTIME = CONTRACT_INTERFACE['bin-runtime'] #bytecode runtime (required for deploying the contract)"
   ]
  },
  {
   "cell_type": "markdown",
   "metadata": {},
   "source": [
    "## **Deploy the Contract**"
   ]
  },
  {
   "cell_type": "code",
   "execution_count": 5,
   "metadata": {},
   "outputs": [],
   "source": [
    "def deploy_contract(web3, contract, deployer_address, gas):\n",
    "        tx_hash = contract.deploy(transaction={\"from\": deployer_address, \"gas\": gas})\n",
    "        receipt = web3.eth.getTransactionReceipt(tx_hash)\n",
    "        return receipt['contractAddress']"
   ]
  },
  {
   "cell_type": "code",
   "execution_count": 6,
   "metadata": {},
   "outputs": [],
   "source": [
    "def initialize_contract(web3):\n",
    "    contract = web3.eth.contract(\n",
    "        abi=CONTRACT_ABI,\n",
    "        bytecode=CONTRACT_BIN,\n",
    "        bytecode_runtime=CONTRACT_BIN_RUNTIME\n",
    "    )\n",
    "\n",
    "    deployer_address = input(\"Enter the address of the deployer: \")\n",
    "    deployer_address = web3.eth.accounts[0] if deployer_address == \"\" else deployer_address\n",
    "\n",
    "    gas = input(\"Enter the desired gas for the contract: \")\n",
    "    gas = 1000000 if gas == \"\" else int(gas)\n",
    "\n",
    "    contract_address = deploy_contract(web3, contract, deployer_address, gas)\n",
    "    print(\"The contract address is: \" + contract_address)\n",
    "    return contract_address"
   ]
  },
  {
   "cell_type": "code",
   "execution_count": 8,
   "metadata": {},
   "outputs": [
    {
     "name": "stdout",
     "output_type": "stream",
     "text": [
      "The contract address is: 0xE2cC7b448617bB0Db302215fB94e6F104EbAa3CC\n"
     ]
    }
   ],
   "source": [
    "CONTRACT_ADDRESS = initialize_contract(WEB3)"
   ]
  },
  {
   "cell_type": "markdown",
   "metadata": {},
   "source": [
    "## **Interact With the Contract**"
   ]
  },
  {
   "cell_type": "markdown",
   "metadata": {},
   "source": [
    "### Read From the Chain\n",
    "\n",
    "Reading from the Ethereum blockchain costs 0 gas.\n",
    "\n",
    "In solidity, read functions contain the '`constant`' reserved word."
   ]
  },
  {
   "cell_type": "code",
   "execution_count": 13,
   "metadata": {},
   "outputs": [
    {
     "data": {
      "text/plain": [
       "\"'hello there'\""
      ]
     },
     "execution_count": 13,
     "metadata": {},
     "output_type": "execute_result"
    }
   ],
   "source": [
    "contract_instance = WEB3.eth.contract(abi=CONTRACT_ABI)\n",
    "contract_call = contract_instance.call({'to' : CONTRACT_ADDRESS})\n",
    "contract_call.greet()"
   ]
  },
  {
   "cell_type": "markdown",
   "metadata": {},
   "source": [
    "## Writing To the Chain\n",
    "\n",
    "Reading from the Ethereum chain costs gas."
   ]
  },
  {
   "cell_type": "code",
   "execution_count": 14,
   "metadata": {},
   "outputs": [
    {
     "data": {
      "text/plain": [
       "'0x8ce694a18e7dba1ab89462d070de8bc804d1717f377e20fb9a98d25713f17104'"
      ]
     },
     "execution_count": 14,
     "metadata": {},
     "output_type": "execute_result"
    }
   ],
   "source": [
    "contract_instance = WEB3.eth.contract(abi=CONTRACT_ABI)\n",
    "contract_transact = contract_instance.transact({\"from\": input('Send from address: '), \"to\": CONTRACT_ADDRESS, \"gas\": int(input('Enter desired gas: '))})\n",
    "contract_transact.setGreeting(input('Enter desired greeting: '))"
   ]
  }
 ],
 "metadata": {
  "kernelspec": {
   "display_name": "Python 3",
   "language": "python",
   "name": "python3"
  },
  "language_info": {
   "codemirror_mode": {
    "name": "ipython",
    "version": 3
   },
   "file_extension": ".py",
   "mimetype": "text/x-python",
   "name": "python",
   "nbconvert_exporter": "python",
   "pygments_lexer": "ipython3",
   "version": "3.6.3"
  }
 },
 "nbformat": 4,
 "nbformat_minor": 2
}
